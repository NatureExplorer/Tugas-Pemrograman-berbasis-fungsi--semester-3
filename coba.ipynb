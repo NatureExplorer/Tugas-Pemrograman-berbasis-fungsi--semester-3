1.hallo
"print(hallo)"
